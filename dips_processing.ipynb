{
 "cells": [
  {
   "cell_type": "code",
   "execution_count": 3,
   "id": "97a14df6",
   "metadata": {},
   "outputs": [
    {
     "name": "stdout",
     "output_type": "stream",
     "text": [
      "5.574794264221976e-09\n",
      "0.00039242553606354063\n",
      "0.009373552674195904\n",
      "14.141940019250326\n",
      "9.966159146363683\n",
      "8.544499978529679\n"
     ]
    },
    {
     "data": {
      "text/plain": [
       "(0.0, 30.0)"
      ]
     },
     "execution_count": 3,
     "metadata": {},
     "output_type": "execute_result"
    },
    {
     "data": {
      "image/png": "[encoded data removed]",
      "text/plain": [
       "<Figure size 640x480 with 1 Axes>"
      ]
     },
     "metadata": {},
     "output_type": "display_data"
    }
   ],
   "source": [
    "import numpy as np\n",
    "from scipy.optimize import minimize \n",
    "import math\n",
    "import matplotlib.pyplot as plt\n",
    "from scipy.optimize import least_squares\n",
    "\n",
    "linear_dip_widths = []\n",
    "erf_dip_widths = []\n",
    "super_erf_dip_widths = []\n",
    "\n",
    "# --- Initial guesses ---\n",
    "init_guess_parabolic = [0, 0.0025, 0.00000001, 0.9, 10]\n",
    "init_guess = [0, 0.0025, 0.9, 10]\n",
    "\n",
    "Lvals = np.arange(0, 64001, 800)\n",
    "Lvals2 = [0, 800]\n",
    "taus = np.arange(-50, 50 + 0.5, 0.5)\n",
    "\n",
    "def one_minus_gaussian(t, t_0, a1, a2, fwhm):\n",
    "    return a1 - a2*np.exp(-4*np.log(2)*((t - t_0)**2)/fwhm**2)\n",
    "\n",
    "def parabolic_one_minus_gaussian(t, t_0, a1, a2, a3, fwhm):\n",
    "    return (a1 - a2*(t - t_0)**2)*(1 - a3*np.exp(-4*math.log(2)*((t - t_0)**2)/fwhm**2))\n",
    "\n",
    "def chisq(params, t, y):\n",
    "    t0, a1, a2, fwhm = params\n",
    "    model = one_minus_gaussian(t, t0, a1, a2, fwhm)\n",
    "    return np.sum((y - model)**2)\n",
    "\n",
    "def chisq_parabolic(params, t, y):\n",
    "    t0, a1, a2, a3, fwhm = params\n",
    "    model = parabolic_one_minus_gaussian(t, t0, a1, a2, a3, fwhm)\n",
    "    return np.sum((y - model)**2)\n",
    "\n",
    "def residuals_parabolic(params, t, y):\n",
    "    T0, a1, a2, a3, sigma = params\n",
    "    model = (a1 - a2 * (t - T0)**2) * (1 - a3 * np.exp(-4 * np.log(2) * (t - T0)**2 / sigma**2))\n",
    "    return model - y\n",
    "\n",
    "def residuals(params, t, y):\n",
    "    T0, a1, a2, sigma = params\n",
    "    model = (a1 - a2 * np.exp(-4 * np.log(2) * (t - T0)**2 / sigma**2))\n",
    "    return model - y\n",
    "\n",
    "for L in Lvals:\n",
    "    '''lin_sig = np.loadtxt(f\"./test_results/linear/linear_L{L}.txt\")\n",
    "    erf_sig = np.loadtxt(f\"./test_results/erf/erf_L{L}.txt\")\n",
    "    superf_sig = np.loadtxt(f\"./test_results/super_erf/super_erf_L{L}.txt\")'''\n",
    "\n",
    "    lin_sig = np.loadtxt(f\"./updated_phi_results/linear/linear_L{L}.txt\")\n",
    "    erf_sig = np.loadtxt(f\"./updated_phi_results/erf/erf_L{L}.txt\")\n",
    "    superf_sig = np.loadtxt(f\"./updated_phi_results/super_erf/super_erf_L{L}.txt\")\n",
    "\n",
    "    lin_norm = (lin_sig - np.min(lin_sig))/(np.max(lin_sig) - np.min(lin_sig))\n",
    "    erf_norm = (erf_sig - np.min(erf_sig))/(np.max(erf_sig) - np.min(erf_sig))\n",
    "    superf_norm = (superf_sig - np.min(superf_sig))/(np.max(superf_sig) - np.min(superf_sig))\n",
    "    \n",
    "    # --- Fit the data ---\n",
    "    #lin_result = minimize(chisq_parabolic, init_guess_parabolic, args=(taus, lin_norm), method='L-BFGS-B')\n",
    "    #erf_result = minimize(chisq_parabolic, init_guess_parabolic, args=(taus, erf_norm), method='L-BFGS-B')\n",
    "    #superf_result = minimize(chisq_parabolic, init_guess_parabolic, args=(taus, superf_norm), method='L-BFGS-B')\n",
    "\n",
    "    #pretty sure maggies code uses the LevenbergMarquardt method, at least for the 0 dispersion dip\n",
    "    lin_result = least_squares(residuals, init_guess, args=(taus, lin_norm), method='lm', \n",
    "                               ftol=1e-15, xtol=1e-15, gtol=1e-15)\n",
    "    erf_result = least_squares(residuals, init_guess, args=(taus, erf_norm), method='lm',\n",
    "                               ftol=1e-15, xtol=1e-15, gtol=1e-15)\n",
    "    superf_result = least_squares(residuals, init_guess, args=(taus, superf_norm), method='lm', \n",
    "                               ftol=1e-15, xtol=1e-15, gtol=1e-15)\n",
    "\n",
    "    if (L == 0):\n",
    "        print(np.sum(lin_result.fun**2))\n",
    "        print(np.sum(erf_result.fun**2))\n",
    "        print(np.sum(superf_result.fun**2))\n",
    "    \n",
    "    linear_dip_widths.append(lin_result.x[3])\n",
    "    erf_dip_widths.append(erf_result.x[3])\n",
    "    super_erf_dip_widths.append(superf_result.x[3]) \n",
    "\n",
    "print(linear_dip_widths[0])\n",
    "print(erf_dip_widths[0])\n",
    "print(super_erf_dip_widths[0])\n",
    "np.savetxt(f\"./linear_dip_widths.txt\", linear_dip_widths, )\n",
    "plt.plot(Lvals, linear_dip_widths, label = \"linear\")\n",
    "plt.plot(Lvals, erf_dip_widths, label = \"erf\")\n",
    "plt.plot(Lvals, super_erf_dip_widths, label = \"super-erf\")\n",
    "plt.ylim(0, 30)"
   ]
  },
  {
   "cell_type": "code",
   "execution_count": 2,
   "id": "0b0c2ac5",
   "metadata": {},
   "outputs": [
    {
     "name": "stdout",
     "output_type": "stream",
     "text": [
      "c:\\Program Files\\Python39\\python.exe\n"
     ]
    }
   ],
   "source": [
    "import sys\n",
    "print(sys.executable)"
   ]
  },
  {
   "cell_type": "code",
   "execution_count": 7,
   "id": "b832164a",
   "metadata": {},
   "outputs": [
    {
     "name": "stdout",
     "output_type": "stream",
     "text": [
      "5.198771420117937e-16\n",
      "2.362980033607251e-05\n",
      "0.001697415065674777\n",
      "14.142114756407269\n",
      "10.001714131193529\n",
      "8.695071722856943\n"
     ]
    },
    {
     "data": {
      "text/plain": [
       "(0.0, 30.0)"
      ]
     },
     "execution_count": 7,
     "metadata": {},
     "output_type": "execute_result"
    },
    {
     "data": {
      "image/png": "[encoded data removed]",
      "text/plain": [
       "<Figure size 640x480 with 1 Axes>"
      ]
     },
     "metadata": {},
     "output_type": "display_data"
    }
   ],
   "source": [
    "#attempting with jax now!\n",
    "import jax\n",
    "import jax.numpy as jnp\n",
    "from jax import jit, jacrev\n",
    "import numpy as np\n",
    "from scipy.optimize import least_squares\n",
    "from jax import config \n",
    "config.update(\"jax_enable_x64\", True)\n",
    "\n",
    "def model(params, t):\n",
    "    T0, a1, a2, a3, sigma = params\n",
    "    return (a1 - a2 * (t - T0)**2) * (1 - a3 * jnp.exp(-4 * jnp.log(2) * (t - T0)**2 / sigma**2))\n",
    "\n",
    "def residuals(params, t, y):\n",
    "    return model(params, t) - y\n",
    "\n",
    "jacobian_fn = jit(jacrev(residuals))\n",
    "x0 = jnp.array([0, 0.0025, 1e-8, 0.9, 10.0])\n",
    "\n",
    "linear_dip_widths = []\n",
    "erf_dip_widths = []\n",
    "super_erf_dip_widths = []\n",
    "\n",
    "for L in Lvals:\n",
    "    '''lin_sig = np.loadtxt(f\"./test_results/linear/linear_L{L}.txt\")\n",
    "    erf_sig = np.loadtxt(f\"./test_results/erf/erf_L{L}.txt\")\n",
    "    superf_sig = np.loadtxt(f\"./test_results/super_erf/super_erf_L{L}.txt\")'''\n",
    "\n",
    "    lin_sig = np.loadtxt(f\"./transition docs copy/Mar7_results/lin_dips_mar7/dip_{L}.txt\")\n",
    "    erf_sig = np.loadtxt(f\"./transition docs copy/Mar7_results/erf_dips_mar7/dip_{L}.txt\")\n",
    "    superf_sig = np.loadtxt(f\"./transition docs copy/Mar7_results/super_dips_mar7/dip_{L}.txt\")\n",
    "\n",
    "    lin_norm = (lin_sig - np.min(lin_sig))/(np.max(lin_sig) - np.min(lin_sig))\n",
    "    erf_norm = (erf_sig - np.min(erf_sig))/(np.max(erf_sig) - np.min(erf_sig))\n",
    "    superf_norm = (superf_sig - np.min(superf_sig))/(np.max(superf_sig) - np.min(superf_sig))\n",
    "    \n",
    "    # --- Fit the data ---\n",
    "    #lin_result = minimize(chisq_parabolic, init_guess_parabolic, args=(taus, lin_norm), method='L-BFGS-B')\n",
    "    #erf_result = minimize(chisq_parabolic, init_guess_parabolic, args=(taus, erf_norm), method='L-BFGS-B')\n",
    "    #superf_result = minimize(chisq_parabolic, init_guess_parabolic, args=(taus, superf_norm), method='L-BFGS-B')\n",
    "\n",
    "    #pretty sure maggies code uses the LevenbergMarquardt method, at least for the 0 dispersion dip\n",
    "    lin_result = least_squares(\n",
    "    fun=lambda p: np.array(residuals(p, taus, lin_norm)),\n",
    "    x0=np.array(x0),\n",
    "    jac=lambda p: np.array(jacobian_fn(p, taus, lin_norm)),\n",
    "    method='trf',\n",
    "    ftol=1e-14,\n",
    "    xtol=1e-14,\n",
    "    gtol=1e-14,\n",
    "    verbose=0\n",
    ")\n",
    "    erf_result = least_squares(\n",
    "    fun=lambda p: np.array(residuals(p, taus, erf_norm)),\n",
    "    x0=np.array(x0),\n",
    "    jac=lambda p: np.array(jacobian_fn(p, taus, erf_norm)),\n",
    "    method='trf',\n",
    "    ftol=1e-14,\n",
    "    xtol=1e-14,\n",
    "    gtol=1e-14,\n",
    "    verbose=0\n",
    ")\n",
    "    superf_result = least_squares(\n",
    "    fun=lambda p: np.array(residuals(p, taus, superf_norm)),\n",
    "    x0=np.array(x0),\n",
    "    jac=lambda p: np.array(jacobian_fn(p, taus, superf_norm)),\n",
    "    method='trf',\n",
    "    ftol=1e-14,\n",
    "    xtol=1e-14,\n",
    "    gtol=1e-14,\n",
    "    verbose=0\n",
    ")\n",
    "\n",
    "    if (L == 0):\n",
    "        print(np.sum(lin_result.fun**2))\n",
    "        print(np.sum(erf_result.fun**2))\n",
    "        print(np.sum(superf_result.fun**2))\n",
    "    \n",
    "    linear_dip_widths.append(lin_result.x[4])\n",
    "    erf_dip_widths.append(erf_result.x[4])\n",
    "    super_erf_dip_widths.append(superf_result.x[4]) \n",
    "\n",
    "print(linear_dip_widths[0])\n",
    "print(erf_dip_widths[0])\n",
    "print(super_erf_dip_widths[0])\n",
    "\n",
    "np.savetxt(f\"./linear_dip_widths.txt\", linear_dip_widths, )\n",
    "plt.plot(Lvals, linear_dip_widths, label = \"linear\")\n",
    "plt.plot(Lvals, erf_dip_widths, label = \"erf\")\n",
    "plt.plot(Lvals, super_erf_dip_widths, label = \"super-erf\")\n",
    "plt.ylim(0, 30)"
   ]
  }
 ],
 "metadata": {
  "kernelspec": {
   "display_name": "Python 3",
   "language": "python",
   "name": "python3"
  },
  "language_info": {
   "codemirror_mode": {
    "name": "ipython",
    "version": 3
   },
   "file_extension": ".py",
   "mimetype": "text/x-python",
   "name": "python",
   "nbconvert_exporter": "python",
   "pygments_lexer": "ipython3",
   "version": "3.9.6"
  }
 },
 "nbformat": 4,
 "nbformat_minor": 5
}
